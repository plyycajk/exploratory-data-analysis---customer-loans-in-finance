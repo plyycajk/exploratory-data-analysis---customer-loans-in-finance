{
 "cells": [
  {
   "cell_type": "markdown",
   "metadata": {},
   "source": [
    "# Analysis\n"
   ]
  },
  {
   "cell_type": "code",
   "execution_count": 39,
   "metadata": {},
   "outputs": [
    {
     "data": {
      "text/html": [
       "<div>\n",
       "<style scoped>\n",
       "    .dataframe tbody tr th:only-of-type {\n",
       "        vertical-align: middle;\n",
       "    }\n",
       "\n",
       "    .dataframe tbody tr th {\n",
       "        vertical-align: top;\n",
       "    }\n",
       "\n",
       "    .dataframe thead th {\n",
       "        text-align: right;\n",
       "    }\n",
       "</style>\n",
       "<table border=\"1\" class=\"dataframe\">\n",
       "  <thead>\n",
       "    <tr style=\"text-align: right;\">\n",
       "      <th></th>\n",
       "      <th>id</th>\n",
       "      <th>member_id</th>\n",
       "      <th>loan_amount</th>\n",
       "      <th>funded_amount</th>\n",
       "      <th>funded_amount_inv</th>\n",
       "      <th>term</th>\n",
       "      <th>int_rate</th>\n",
       "      <th>instalment</th>\n",
       "      <th>grade</th>\n",
       "      <th>sub_grade</th>\n",
       "      <th>employment_length</th>\n",
       "      <th>home_ownership</th>\n",
       "      <th>annual_inc</th>\n",
       "      <th>verification_status</th>\n",
       "      <th>issue_date</th>\n",
       "      <th>loan_status</th>\n",
       "      <th>payment_plan</th>\n",
       "      <th>purpose</th>\n",
       "      <th>dti</th>\n",
       "      <th>delinq_2yrs</th>\n",
       "      <th>earliest_credit_line</th>\n",
       "      <th>inq_last_6mths</th>\n",
       "      <th>open_accounts</th>\n",
       "      <th>total_accounts</th>\n",
       "      <th>out_prncp</th>\n",
       "      <th>out_prncp_inv</th>\n",
       "      <th>total_payment</th>\n",
       "      <th>total_payment_inv</th>\n",
       "      <th>total_rec_prncp</th>\n",
       "      <th>total_rec_int</th>\n",
       "      <th>total_rec_late_fee</th>\n",
       "      <th>recoveries</th>\n",
       "      <th>collection_recovery_fee</th>\n",
       "      <th>last_payment_date</th>\n",
       "      <th>last_payment_amount</th>\n",
       "      <th>last_credit_pull_date</th>\n",
       "      <th>collections_12_mths_ex_med</th>\n",
       "      <th>policy_code</th>\n",
       "      <th>application_type</th>\n",
       "    </tr>\n",
       "  </thead>\n",
       "  <tbody>\n",
       "    <tr>\n",
       "      <th>0</th>\n",
       "      <td>38676116</td>\n",
       "      <td>41461848</td>\n",
       "      <td>8000</td>\n",
       "      <td>8000.0</td>\n",
       "      <td>8000.0</td>\n",
       "      <td>36</td>\n",
       "      <td>7.49</td>\n",
       "      <td>248.82</td>\n",
       "      <td>A</td>\n",
       "      <td>A4</td>\n",
       "      <td>5</td>\n",
       "      <td>MORTGAGE</td>\n",
       "      <td>46000.0</td>\n",
       "      <td>Not Verified</td>\n",
       "      <td>2021-01-01</td>\n",
       "      <td>Current</td>\n",
       "      <td>n</td>\n",
       "      <td>credit_card</td>\n",
       "      <td>19.54</td>\n",
       "      <td>2.0</td>\n",
       "      <td>1987-10-01</td>\n",
       "      <td>0</td>\n",
       "      <td>12</td>\n",
       "      <td>27</td>\n",
       "      <td>5529.70</td>\n",
       "      <td>5529.70</td>\n",
       "      <td>2982.51</td>\n",
       "      <td>2982.51</td>\n",
       "      <td>2470.30</td>\n",
       "      <td>512.21</td>\n",
       "      <td>0</td>\n",
       "      <td>0.0</td>\n",
       "      <td>0.0</td>\n",
       "      <td>2022-01-01</td>\n",
       "      <td>248.82</td>\n",
       "      <td>2022-01-01</td>\n",
       "      <td>0</td>\n",
       "      <td>1</td>\n",
       "      <td>INDIVIDUAL</td>\n",
       "    </tr>\n",
       "    <tr>\n",
       "      <th>1</th>\n",
       "      <td>38656203</td>\n",
       "      <td>41440010</td>\n",
       "      <td>13200</td>\n",
       "      <td>13200.0</td>\n",
       "      <td>13200.0</td>\n",
       "      <td>36</td>\n",
       "      <td>6.99</td>\n",
       "      <td>407.52</td>\n",
       "      <td>A</td>\n",
       "      <td>A3</td>\n",
       "      <td>9</td>\n",
       "      <td>RENT</td>\n",
       "      <td>50000.0</td>\n",
       "      <td>Not Verified</td>\n",
       "      <td>2021-01-01</td>\n",
       "      <td>Current</td>\n",
       "      <td>n</td>\n",
       "      <td>credit_card</td>\n",
       "      <td>24.20</td>\n",
       "      <td>0.0</td>\n",
       "      <td>2001-09-01</td>\n",
       "      <td>0</td>\n",
       "      <td>15</td>\n",
       "      <td>31</td>\n",
       "      <td>9102.83</td>\n",
       "      <td>9102.83</td>\n",
       "      <td>4885.11</td>\n",
       "      <td>4885.11</td>\n",
       "      <td>4097.17</td>\n",
       "      <td>787.94</td>\n",
       "      <td>0</td>\n",
       "      <td>0.0</td>\n",
       "      <td>0.0</td>\n",
       "      <td>2022-01-01</td>\n",
       "      <td>407.52</td>\n",
       "      <td>2022-01-01</td>\n",
       "      <td>0</td>\n",
       "      <td>1</td>\n",
       "      <td>INDIVIDUAL</td>\n",
       "    </tr>\n",
       "    <tr>\n",
       "      <th>2</th>\n",
       "      <td>38656154</td>\n",
       "      <td>41439961</td>\n",
       "      <td>16000</td>\n",
       "      <td>16000.0</td>\n",
       "      <td>16000.0</td>\n",
       "      <td>36</td>\n",
       "      <td>7.49</td>\n",
       "      <td>497.63</td>\n",
       "      <td>A</td>\n",
       "      <td>A4</td>\n",
       "      <td>8</td>\n",
       "      <td>MORTGAGE</td>\n",
       "      <td>73913.0</td>\n",
       "      <td>Source Verified</td>\n",
       "      <td>2021-01-01</td>\n",
       "      <td>Fully Paid</td>\n",
       "      <td>n</td>\n",
       "      <td>credit_card</td>\n",
       "      <td>16.92</td>\n",
       "      <td>0.0</td>\n",
       "      <td>1998-09-01</td>\n",
       "      <td>0</td>\n",
       "      <td>7</td>\n",
       "      <td>18</td>\n",
       "      <td>0.00</td>\n",
       "      <td>0.00</td>\n",
       "      <td>16824.54</td>\n",
       "      <td>16824.54</td>\n",
       "      <td>16000.00</td>\n",
       "      <td>824.54</td>\n",
       "      <td>0</td>\n",
       "      <td>0.0</td>\n",
       "      <td>0.0</td>\n",
       "      <td>2021-10-01</td>\n",
       "      <td>12850.16</td>\n",
       "      <td>2021-10-01</td>\n",
       "      <td>0</td>\n",
       "      <td>1</td>\n",
       "      <td>INDIVIDUAL</td>\n",
       "    </tr>\n",
       "    <tr>\n",
       "      <th>3</th>\n",
       "      <td>38656128</td>\n",
       "      <td>41439934</td>\n",
       "      <td>15000</td>\n",
       "      <td>15000.0</td>\n",
       "      <td>15000.0</td>\n",
       "      <td>36</td>\n",
       "      <td>14.31</td>\n",
       "      <td>514.93</td>\n",
       "      <td>C</td>\n",
       "      <td>C4</td>\n",
       "      <td>1</td>\n",
       "      <td>RENT</td>\n",
       "      <td>42000.0</td>\n",
       "      <td>Source Verified</td>\n",
       "      <td>2021-01-01</td>\n",
       "      <td>Fully Paid</td>\n",
       "      <td>n</td>\n",
       "      <td>debt_consolidation</td>\n",
       "      <td>35.52</td>\n",
       "      <td>0.0</td>\n",
       "      <td>2008-06-01</td>\n",
       "      <td>0</td>\n",
       "      <td>6</td>\n",
       "      <td>13</td>\n",
       "      <td>0.00</td>\n",
       "      <td>0.00</td>\n",
       "      <td>15947.47</td>\n",
       "      <td>15947.47</td>\n",
       "      <td>15000.00</td>\n",
       "      <td>947.47</td>\n",
       "      <td>0</td>\n",
       "      <td>0.0</td>\n",
       "      <td>0.0</td>\n",
       "      <td>2021-06-01</td>\n",
       "      <td>13899.67</td>\n",
       "      <td>2021-06-01</td>\n",
       "      <td>0</td>\n",
       "      <td>1</td>\n",
       "      <td>INDIVIDUAL</td>\n",
       "    </tr>\n",
       "    <tr>\n",
       "      <th>4</th>\n",
       "      <td>38656121</td>\n",
       "      <td>41439927</td>\n",
       "      <td>15000</td>\n",
       "      <td>15000.0</td>\n",
       "      <td>15000.0</td>\n",
       "      <td>36</td>\n",
       "      <td>6.03</td>\n",
       "      <td>456.54</td>\n",
       "      <td>A</td>\n",
       "      <td>A1</td>\n",
       "      <td>10</td>\n",
       "      <td>MORTGAGE</td>\n",
       "      <td>145000.0</td>\n",
       "      <td>Verified</td>\n",
       "      <td>2021-01-01</td>\n",
       "      <td>Current</td>\n",
       "      <td>n</td>\n",
       "      <td>debt_consolidation</td>\n",
       "      <td>3.33</td>\n",
       "      <td>0.0</td>\n",
       "      <td>2002-04-01</td>\n",
       "      <td>0</td>\n",
       "      <td>23</td>\n",
       "      <td>50</td>\n",
       "      <td>10297.47</td>\n",
       "      <td>10297.47</td>\n",
       "      <td>5473.46</td>\n",
       "      <td>5473.46</td>\n",
       "      <td>4702.53</td>\n",
       "      <td>770.93</td>\n",
       "      <td>0</td>\n",
       "      <td>0.0</td>\n",
       "      <td>0.0</td>\n",
       "      <td>2022-01-01</td>\n",
       "      <td>456.54</td>\n",
       "      <td>2022-01-01</td>\n",
       "      <td>0</td>\n",
       "      <td>1</td>\n",
       "      <td>INDIVIDUAL</td>\n",
       "    </tr>\n",
       "  </tbody>\n",
       "</table>\n",
       "</div>"
      ],
      "text/plain": [
       "         id  member_id  loan_amount  funded_amount  funded_amount_inv  term  \\\n",
       "0  38676116   41461848         8000         8000.0             8000.0    36   \n",
       "1  38656203   41440010        13200        13200.0            13200.0    36   \n",
       "2  38656154   41439961        16000        16000.0            16000.0    36   \n",
       "3  38656128   41439934        15000        15000.0            15000.0    36   \n",
       "4  38656121   41439927        15000        15000.0            15000.0    36   \n",
       "\n",
       "   int_rate  instalment grade sub_grade  employment_length home_ownership  \\\n",
       "0      7.49      248.82     A        A4                  5       MORTGAGE   \n",
       "1      6.99      407.52     A        A3                  9           RENT   \n",
       "2      7.49      497.63     A        A4                  8       MORTGAGE   \n",
       "3     14.31      514.93     C        C4                  1           RENT   \n",
       "4      6.03      456.54     A        A1                 10       MORTGAGE   \n",
       "\n",
       "   annual_inc verification_status  issue_date loan_status payment_plan  \\\n",
       "0     46000.0        Not Verified  2021-01-01     Current            n   \n",
       "1     50000.0        Not Verified  2021-01-01     Current            n   \n",
       "2     73913.0     Source Verified  2021-01-01  Fully Paid            n   \n",
       "3     42000.0     Source Verified  2021-01-01  Fully Paid            n   \n",
       "4    145000.0            Verified  2021-01-01     Current            n   \n",
       "\n",
       "              purpose    dti  delinq_2yrs earliest_credit_line  \\\n",
       "0         credit_card  19.54          2.0           1987-10-01   \n",
       "1         credit_card  24.20          0.0           2001-09-01   \n",
       "2         credit_card  16.92          0.0           1998-09-01   \n",
       "3  debt_consolidation  35.52          0.0           2008-06-01   \n",
       "4  debt_consolidation   3.33          0.0           2002-04-01   \n",
       "\n",
       "   inq_last_6mths  open_accounts  total_accounts  out_prncp  out_prncp_inv  \\\n",
       "0               0             12              27    5529.70        5529.70   \n",
       "1               0             15              31    9102.83        9102.83   \n",
       "2               0              7              18       0.00           0.00   \n",
       "3               0              6              13       0.00           0.00   \n",
       "4               0             23              50   10297.47       10297.47   \n",
       "\n",
       "   total_payment  total_payment_inv  total_rec_prncp  total_rec_int  \\\n",
       "0        2982.51            2982.51          2470.30         512.21   \n",
       "1        4885.11            4885.11          4097.17         787.94   \n",
       "2       16824.54           16824.54         16000.00         824.54   \n",
       "3       15947.47           15947.47         15000.00         947.47   \n",
       "4        5473.46            5473.46          4702.53         770.93   \n",
       "\n",
       "   total_rec_late_fee  recoveries  collection_recovery_fee last_payment_date  \\\n",
       "0                   0         0.0                      0.0        2022-01-01   \n",
       "1                   0         0.0                      0.0        2022-01-01   \n",
       "2                   0         0.0                      0.0        2021-10-01   \n",
       "3                   0         0.0                      0.0        2021-06-01   \n",
       "4                   0         0.0                      0.0        2022-01-01   \n",
       "\n",
       "   last_payment_amount last_credit_pull_date  collections_12_mths_ex_med  \\\n",
       "0               248.82            2022-01-01                           0   \n",
       "1               407.52            2022-01-01                           0   \n",
       "2             12850.16            2021-10-01                           0   \n",
       "3             13899.67            2021-06-01                           0   \n",
       "4               456.54            2022-01-01                           0   \n",
       "\n",
       "   policy_code application_type  \n",
       "0            1       INDIVIDUAL  \n",
       "1            1       INDIVIDUAL  \n",
       "2            1       INDIVIDUAL  \n",
       "3            1       INDIVIDUAL  \n",
       "4            1       INDIVIDUAL  "
      ]
     },
     "metadata": {},
     "output_type": "display_data"
    }
   ],
   "source": [
    "import numpy as np\n",
    "import pandas as pd\n",
    "import plotly.graph_objects as go\n",
    "from plotly.subplots import make_subplots\n",
    "\n",
    "\n",
    "#load csv into dataframe\n",
    "loans_data = pd.read_csv('Data_Post_Transformation.csv')\n",
    "loans_data.drop('Unnamed: 0', axis='columns', inplace=True)\n",
    "\n",
    "log_convert_back = ['recoveries',\n",
    "                    'total_rec_late_fee',\n",
    "                    'delinq_2yrs',\n",
    "                    'inq_last_6mths',\n",
    "                    'annual_inc',\n",
    "                    'out_prncp',\n",
    "                    'out_prncp_inv',\n",
    "                    'last_payment_amount',\n",
    "                    'collections_12_mths_ex_med',\n",
    "                    'collection_recovery_fee']\n",
    "\n",
    "#restore log_converted columns back to pre-transformation values\n",
    "\n",
    "for col in log_convert_back:\n",
    "    loans_data[col] = loans_data[col].map(lambda x: np.exp(x) if x > 0 else 0)\n",
    "\n",
    "pd.set_option('display.max_columns', None)\n",
    "\n",
    "display(loans_data.head())"
   ]
  },
  {
   "cell_type": "code",
   "execution_count": 49,
   "metadata": {},
   "outputs": [
    {
     "name": "stdout",
     "output_type": "stream",
     "text": [
      "The percentage of loans recovered against the investor funding is 61.75%\n",
      "The percentage of investor funding returned is 19.61%\n",
      "The total amount funded is 398,914,525.0\n"
     ]
    },
    {
     "data": {
      "application/vnd.plotly.v1+json": {
       "config": {
        "displayModeBar": false,
        "plotlyServerURL": "https://plot.ly"
       },
       "data": [
        {
         "domain": {
          "x": [
           0,
           0.45
          ],
          "y": [
           0,
           1
          ]
         },
         "hole": 0.4,
         "hoverinfo": "label+percent+name",
         "labels": [
          "Returned",
          "Open"
         ],
         "name": "Current Loans Recovered vs Investor funding",
         "type": "pie",
         "values": [
          19.61,
          80.39
         ]
        },
        {
         "domain": {
          "x": [
           0.55,
           1
          ],
          "y": [
           0,
           1
          ]
         },
         "hole": 0.4,
         "hoverinfo": "label+percent+name",
         "labels": [
          "Returned",
          "Open"
         ],
         "name": "Projection of Funds Recovered in 6 months vs Investor funding",
         "type": "pie",
         "values": [
          32.73,
          67.27000000000001
         ]
        }
       ],
       "layout": {
        "annotations": [
         {
          "font": {
           "size": 18
          },
          "showarrow": false,
          "text": "Current",
          "x": 0.18,
          "y": 0.5
         },
         {
          "font": {
           "size": 18
          },
          "showarrow": false,
          "text": "Projection",
          "x": 0.83,
          "y": 0.5
         }
        ],
        "template": {
         "data": {
          "bar": [
           {
            "error_x": {
             "color": "#2a3f5f"
            },
            "error_y": {
             "color": "#2a3f5f"
            },
            "marker": {
             "line": {
              "color": "#E5ECF6",
              "width": 0.5
             },
             "pattern": {
              "fillmode": "overlay",
              "size": 10,
              "solidity": 0.2
             }
            },
            "type": "bar"
           }
          ],
          "barpolar": [
           {
            "marker": {
             "line": {
              "color": "#E5ECF6",
              "width": 0.5
             },
             "pattern": {
              "fillmode": "overlay",
              "size": 10,
              "solidity": 0.2
             }
            },
            "type": "barpolar"
           }
          ],
          "carpet": [
           {
            "aaxis": {
             "endlinecolor": "#2a3f5f",
             "gridcolor": "white",
             "linecolor": "white",
             "minorgridcolor": "white",
             "startlinecolor": "#2a3f5f"
            },
            "baxis": {
             "endlinecolor": "#2a3f5f",
             "gridcolor": "white",
             "linecolor": "white",
             "minorgridcolor": "white",
             "startlinecolor": "#2a3f5f"
            },
            "type": "carpet"
           }
          ],
          "choropleth": [
           {
            "colorbar": {
             "outlinewidth": 0,
             "ticks": ""
            },
            "type": "choropleth"
           }
          ],
          "contour": [
           {
            "colorbar": {
             "outlinewidth": 0,
             "ticks": ""
            },
            "colorscale": [
             [
              0,
              "#0d0887"
             ],
             [
              0.1111111111111111,
              "#46039f"
             ],
             [
              0.2222222222222222,
              "#7201a8"
             ],
             [
              0.3333333333333333,
              "#9c179e"
             ],
             [
              0.4444444444444444,
              "#bd3786"
             ],
             [
              0.5555555555555556,
              "#d8576b"
             ],
             [
              0.6666666666666666,
              "#ed7953"
             ],
             [
              0.7777777777777778,
              "#fb9f3a"
             ],
             [
              0.8888888888888888,
              "#fdca26"
             ],
             [
              1,
              "#f0f921"
             ]
            ],
            "type": "contour"
           }
          ],
          "contourcarpet": [
           {
            "colorbar": {
             "outlinewidth": 0,
             "ticks": ""
            },
            "type": "contourcarpet"
           }
          ],
          "heatmap": [
           {
            "colorbar": {
             "outlinewidth": 0,
             "ticks": ""
            },
            "colorscale": [
             [
              0,
              "#0d0887"
             ],
             [
              0.1111111111111111,
              "#46039f"
             ],
             [
              0.2222222222222222,
              "#7201a8"
             ],
             [
              0.3333333333333333,
              "#9c179e"
             ],
             [
              0.4444444444444444,
              "#bd3786"
             ],
             [
              0.5555555555555556,
              "#d8576b"
             ],
             [
              0.6666666666666666,
              "#ed7953"
             ],
             [
              0.7777777777777778,
              "#fb9f3a"
             ],
             [
              0.8888888888888888,
              "#fdca26"
             ],
             [
              1,
              "#f0f921"
             ]
            ],
            "type": "heatmap"
           }
          ],
          "heatmapgl": [
           {
            "colorbar": {
             "outlinewidth": 0,
             "ticks": ""
            },
            "colorscale": [
             [
              0,
              "#0d0887"
             ],
             [
              0.1111111111111111,
              "#46039f"
             ],
             [
              0.2222222222222222,
              "#7201a8"
             ],
             [
              0.3333333333333333,
              "#9c179e"
             ],
             [
              0.4444444444444444,
              "#bd3786"
             ],
             [
              0.5555555555555556,
              "#d8576b"
             ],
             [
              0.6666666666666666,
              "#ed7953"
             ],
             [
              0.7777777777777778,
              "#fb9f3a"
             ],
             [
              0.8888888888888888,
              "#fdca26"
             ],
             [
              1,
              "#f0f921"
             ]
            ],
            "type": "heatmapgl"
           }
          ],
          "histogram": [
           {
            "marker": {
             "pattern": {
              "fillmode": "overlay",
              "size": 10,
              "solidity": 0.2
             }
            },
            "type": "histogram"
           }
          ],
          "histogram2d": [
           {
            "colorbar": {
             "outlinewidth": 0,
             "ticks": ""
            },
            "colorscale": [
             [
              0,
              "#0d0887"
             ],
             [
              0.1111111111111111,
              "#46039f"
             ],
             [
              0.2222222222222222,
              "#7201a8"
             ],
             [
              0.3333333333333333,
              "#9c179e"
             ],
             [
              0.4444444444444444,
              "#bd3786"
             ],
             [
              0.5555555555555556,
              "#d8576b"
             ],
             [
              0.6666666666666666,
              "#ed7953"
             ],
             [
              0.7777777777777778,
              "#fb9f3a"
             ],
             [
              0.8888888888888888,
              "#fdca26"
             ],
             [
              1,
              "#f0f921"
             ]
            ],
            "type": "histogram2d"
           }
          ],
          "histogram2dcontour": [
           {
            "colorbar": {
             "outlinewidth": 0,
             "ticks": ""
            },
            "colorscale": [
             [
              0,
              "#0d0887"
             ],
             [
              0.1111111111111111,
              "#46039f"
             ],
             [
              0.2222222222222222,
              "#7201a8"
             ],
             [
              0.3333333333333333,
              "#9c179e"
             ],
             [
              0.4444444444444444,
              "#bd3786"
             ],
             [
              0.5555555555555556,
              "#d8576b"
             ],
             [
              0.6666666666666666,
              "#ed7953"
             ],
             [
              0.7777777777777778,
              "#fb9f3a"
             ],
             [
              0.8888888888888888,
              "#fdca26"
             ],
             [
              1,
              "#f0f921"
             ]
            ],
            "type": "histogram2dcontour"
           }
          ],
          "mesh3d": [
           {
            "colorbar": {
             "outlinewidth": 0,
             "ticks": ""
            },
            "type": "mesh3d"
           }
          ],
          "parcoords": [
           {
            "line": {
             "colorbar": {
              "outlinewidth": 0,
              "ticks": ""
             }
            },
            "type": "parcoords"
           }
          ],
          "pie": [
           {
            "automargin": true,
            "type": "pie"
           }
          ],
          "scatter": [
           {
            "fillpattern": {
             "fillmode": "overlay",
             "size": 10,
             "solidity": 0.2
            },
            "type": "scatter"
           }
          ],
          "scatter3d": [
           {
            "line": {
             "colorbar": {
              "outlinewidth": 0,
              "ticks": ""
             }
            },
            "marker": {
             "colorbar": {
              "outlinewidth": 0,
              "ticks": ""
             }
            },
            "type": "scatter3d"
           }
          ],
          "scattercarpet": [
           {
            "marker": {
             "colorbar": {
              "outlinewidth": 0,
              "ticks": ""
             }
            },
            "type": "scattercarpet"
           }
          ],
          "scattergeo": [
           {
            "marker": {
             "colorbar": {
              "outlinewidth": 0,
              "ticks": ""
             }
            },
            "type": "scattergeo"
           }
          ],
          "scattergl": [
           {
            "marker": {
             "colorbar": {
              "outlinewidth": 0,
              "ticks": ""
             }
            },
            "type": "scattergl"
           }
          ],
          "scattermapbox": [
           {
            "marker": {
             "colorbar": {
              "outlinewidth": 0,
              "ticks": ""
             }
            },
            "type": "scattermapbox"
           }
          ],
          "scatterpolar": [
           {
            "marker": {
             "colorbar": {
              "outlinewidth": 0,
              "ticks": ""
             }
            },
            "type": "scatterpolar"
           }
          ],
          "scatterpolargl": [
           {
            "marker": {
             "colorbar": {
              "outlinewidth": 0,
              "ticks": ""
             }
            },
            "type": "scatterpolargl"
           }
          ],
          "scatterternary": [
           {
            "marker": {
             "colorbar": {
              "outlinewidth": 0,
              "ticks": ""
             }
            },
            "type": "scatterternary"
           }
          ],
          "surface": [
           {
            "colorbar": {
             "outlinewidth": 0,
             "ticks": ""
            },
            "colorscale": [
             [
              0,
              "#0d0887"
             ],
             [
              0.1111111111111111,
              "#46039f"
             ],
             [
              0.2222222222222222,
              "#7201a8"
             ],
             [
              0.3333333333333333,
              "#9c179e"
             ],
             [
              0.4444444444444444,
              "#bd3786"
             ],
             [
              0.5555555555555556,
              "#d8576b"
             ],
             [
              0.6666666666666666,
              "#ed7953"
             ],
             [
              0.7777777777777778,
              "#fb9f3a"
             ],
             [
              0.8888888888888888,
              "#fdca26"
             ],
             [
              1,
              "#f0f921"
             ]
            ],
            "type": "surface"
           }
          ],
          "table": [
           {
            "cells": {
             "fill": {
              "color": "#EBF0F8"
             },
             "line": {
              "color": "white"
             }
            },
            "header": {
             "fill": {
              "color": "#C8D4E3"
             },
             "line": {
              "color": "white"
             }
            },
            "type": "table"
           }
          ]
         },
         "layout": {
          "annotationdefaults": {
           "arrowcolor": "#2a3f5f",
           "arrowhead": 0,
           "arrowwidth": 1
          },
          "autotypenumbers": "strict",
          "coloraxis": {
           "colorbar": {
            "outlinewidth": 0,
            "ticks": ""
           }
          },
          "colorscale": {
           "diverging": [
            [
             0,
             "#8e0152"
            ],
            [
             0.1,
             "#c51b7d"
            ],
            [
             0.2,
             "#de77ae"
            ],
            [
             0.3,
             "#f1b6da"
            ],
            [
             0.4,
             "#fde0ef"
            ],
            [
             0.5,
             "#f7f7f7"
            ],
            [
             0.6,
             "#e6f5d0"
            ],
            [
             0.7,
             "#b8e186"
            ],
            [
             0.8,
             "#7fbc41"
            ],
            [
             0.9,
             "#4d9221"
            ],
            [
             1,
             "#276419"
            ]
           ],
           "sequential": [
            [
             0,
             "#0d0887"
            ],
            [
             0.1111111111111111,
             "#46039f"
            ],
            [
             0.2222222222222222,
             "#7201a8"
            ],
            [
             0.3333333333333333,
             "#9c179e"
            ],
            [
             0.4444444444444444,
             "#bd3786"
            ],
            [
             0.5555555555555556,
             "#d8576b"
            ],
            [
             0.6666666666666666,
             "#ed7953"
            ],
            [
             0.7777777777777778,
             "#fb9f3a"
            ],
            [
             0.8888888888888888,
             "#fdca26"
            ],
            [
             1,
             "#f0f921"
            ]
           ],
           "sequentialminus": [
            [
             0,
             "#0d0887"
            ],
            [
             0.1111111111111111,
             "#46039f"
            ],
            [
             0.2222222222222222,
             "#7201a8"
            ],
            [
             0.3333333333333333,
             "#9c179e"
            ],
            [
             0.4444444444444444,
             "#bd3786"
            ],
            [
             0.5555555555555556,
             "#d8576b"
            ],
            [
             0.6666666666666666,
             "#ed7953"
            ],
            [
             0.7777777777777778,
             "#fb9f3a"
            ],
            [
             0.8888888888888888,
             "#fdca26"
            ],
            [
             1,
             "#f0f921"
            ]
           ]
          },
          "colorway": [
           "#636efa",
           "#EF553B",
           "#00cc96",
           "#ab63fa",
           "#FFA15A",
           "#19d3f3",
           "#FF6692",
           "#B6E880",
           "#FF97FF",
           "#FECB52"
          ],
          "font": {
           "color": "#2a3f5f"
          },
          "geo": {
           "bgcolor": "white",
           "lakecolor": "white",
           "landcolor": "#E5ECF6",
           "showlakes": true,
           "showland": true,
           "subunitcolor": "white"
          },
          "hoverlabel": {
           "align": "left"
          },
          "hovermode": "closest",
          "mapbox": {
           "style": "light"
          },
          "paper_bgcolor": "white",
          "plot_bgcolor": "#E5ECF6",
          "polar": {
           "angularaxis": {
            "gridcolor": "white",
            "linecolor": "white",
            "ticks": ""
           },
           "bgcolor": "#E5ECF6",
           "radialaxis": {
            "gridcolor": "white",
            "linecolor": "white",
            "ticks": ""
           }
          },
          "scene": {
           "xaxis": {
            "backgroundcolor": "#E5ECF6",
            "gridcolor": "white",
            "gridwidth": 2,
            "linecolor": "white",
            "showbackground": true,
            "ticks": "",
            "zerolinecolor": "white"
           },
           "yaxis": {
            "backgroundcolor": "#E5ECF6",
            "gridcolor": "white",
            "gridwidth": 2,
            "linecolor": "white",
            "showbackground": true,
            "ticks": "",
            "zerolinecolor": "white"
           },
           "zaxis": {
            "backgroundcolor": "#E5ECF6",
            "gridcolor": "white",
            "gridwidth": 2,
            "linecolor": "white",
            "showbackground": true,
            "ticks": "",
            "zerolinecolor": "white"
           }
          },
          "shapedefaults": {
           "line": {
            "color": "#2a3f5f"
           }
          },
          "ternary": {
           "aaxis": {
            "gridcolor": "white",
            "linecolor": "white",
            "ticks": ""
           },
           "baxis": {
            "gridcolor": "white",
            "linecolor": "white",
            "ticks": ""
           },
           "bgcolor": "#E5ECF6",
           "caxis": {
            "gridcolor": "white",
            "linecolor": "white",
            "ticks": ""
           }
          },
          "title": {
           "x": 0.05
          },
          "xaxis": {
           "automargin": true,
           "gridcolor": "white",
           "linecolor": "white",
           "ticks": "",
           "title": {
            "standoff": 15
           },
           "zerolinecolor": "white",
           "zerolinewidth": 2
          },
          "yaxis": {
           "automargin": true,
           "gridcolor": "white",
           "linecolor": "white",
           "ticks": "",
           "title": {
            "standoff": 15
           },
           "zerolinecolor": "white",
           "zerolinewidth": 2
          }
         }
        },
        "title": {
         "text": "<b>Investor Funds Returned:</b> Current vs. 6 month projection"
        }
       }
      }
     },
     "metadata": {},
     "output_type": "display_data"
    }
   ],
   "source": [
    "# calculate basic loan summary information\n",
    "percentage_recouped_inv = round(len(loans_data[loans_data['out_prncp_inv']==0])/len(loans_data)*100,2)\n",
    "total_funded = loans_data['funded_amount'].sum()\n",
    "funded_percent_inv = round((loans_data['out_prncp_inv'].sum() / loans_data['funded_amount_inv'].sum())*100,2)\n",
    "\n",
    "print(f'The percentage of loans recovered against the investor funding is {percentage_recouped_inv}%')\n",
    "print(f'The percentage of investor funding returned is {funded_percent_inv}%')\n",
    "print(f'The total amount funded is {total_funded:,}')\n",
    "#calculate loan value in 6 months for each loan\n",
    "\n",
    "loans_data['remaining_in_6mths'] = ''\n",
    "for index, row in loans_data.iterrows():\n",
    "    value = row['out_prncp']\n",
    "    mths = 6\n",
    "    while mths > 0:\n",
    "        value = (value * (1+(row['int_rate']/12/100))) - row['instalment']\n",
    "        mths -= 1\n",
    "    \n",
    "    loans_data.at[index, 'remaining_in_6mths'] = value\n",
    "\n",
    "loans_data['remaining_in_6mths'] = np.where(loans_data['remaining_in_6mths']<=0,0,loans_data['remaining_in_6mths'])\n",
    "\n",
    "funds_returned_6mths = round(((loans_data['remaining_in_6mths'].sum() + loans_data['out_prncp_inv'].sum()) / loans_data['funded_amount_inv'].sum())*100,2)\n",
    "\n",
    "loans_data['status_6mths'] = np.where(loans_data['remaining_in_6mths']>0,\"Open\",\"Recovered\")    \n",
    "\n",
    "\n",
    "\n",
    "\n",
    "pie_fig = make_subplots(rows=1, cols=2, specs=[[{'type':'domain'}, {'type':'domain'}]])\n",
    "\n",
    "pie_fig.add_trace(go.Pie(labels=['Returned','Open'], values=[funded_percent_inv,100-funded_percent_inv], name=\"Current Loans Recovered vs Investor funding\"),\n",
    "              row=1, col=1)\n",
    "pie_fig.add_trace(go.Pie(labels=['Returned','Open'], values=[funds_returned_6mths,100-funds_returned_6mths], name=\"Projection of Funds Recovered in 6 months vs Investor funding\"),\n",
    "              row=1, col=2)\n",
    "\n",
    "# Use `hole` to create a donut-like pie chart\n",
    "pie_fig.update_traces(hole=.4, hoverinfo=\"label+percent+name\")\n",
    "\n",
    "pie_fig.update_layout(\n",
    "    title_text=\"<b>Investor Funds Returned:</b> Current vs. 6 month projection\",\n",
    "    # Add annotations in the center of the donut pies.\n",
    "    annotations=[dict(text='Current', x=0.18, y=0.5, font_size=18, showarrow=False),\n",
    "                 dict(text='Projection', x=0.83, y=0.5, font_size=18, showarrow=False)])\n",
    "\n",
    "pie_fig.show(config={'displayModeBar':False})\n",
    "\n",
    "\n"
   ]
  },
  {
   "cell_type": "code",
   "execution_count": 30,
   "metadata": {},
   "outputs": [
    {
     "data": {
      "text/html": [
       "<div>\n",
       "<style scoped>\n",
       "    .dataframe tbody tr th:only-of-type {\n",
       "        vertical-align: middle;\n",
       "    }\n",
       "\n",
       "    .dataframe tbody tr th {\n",
       "        vertical-align: top;\n",
       "    }\n",
       "\n",
       "    .dataframe thead th {\n",
       "        text-align: right;\n",
       "    }\n",
       "</style>\n",
       "<table border=\"1\" class=\"dataframe\">\n",
       "  <thead>\n",
       "    <tr style=\"text-align: right;\">\n",
       "      <th></th>\n",
       "      <th>id</th>\n",
       "      <th>member_id</th>\n",
       "      <th>loan_amount</th>\n",
       "      <th>funded_amount</th>\n",
       "      <th>funded_amount_inv</th>\n",
       "      <th>term</th>\n",
       "      <th>int_rate</th>\n",
       "      <th>instalment</th>\n",
       "      <th>grade</th>\n",
       "      <th>sub_grade</th>\n",
       "      <th>employment_length</th>\n",
       "      <th>home_ownership</th>\n",
       "      <th>annual_inc</th>\n",
       "      <th>verification_status</th>\n",
       "      <th>issue_date</th>\n",
       "      <th>loan_status</th>\n",
       "      <th>payment_plan</th>\n",
       "      <th>purpose</th>\n",
       "      <th>dti</th>\n",
       "      <th>delinq_2yrs</th>\n",
       "      <th>earliest_credit_line</th>\n",
       "      <th>inq_last_6mths</th>\n",
       "      <th>open_accounts</th>\n",
       "      <th>total_accounts</th>\n",
       "      <th>out_prncp</th>\n",
       "      <th>out_prncp_inv</th>\n",
       "      <th>total_payment</th>\n",
       "      <th>total_payment_inv</th>\n",
       "      <th>total_rec_prncp</th>\n",
       "      <th>total_rec_int</th>\n",
       "      <th>total_rec_late_fee</th>\n",
       "      <th>recoveries</th>\n",
       "      <th>collection_recovery_fee</th>\n",
       "      <th>last_payment_date</th>\n",
       "      <th>last_payment_amount</th>\n",
       "      <th>last_credit_pull_date</th>\n",
       "      <th>collections_12_mths_ex_med</th>\n",
       "      <th>policy_code</th>\n",
       "      <th>application_type</th>\n",
       "      <th>remaining_in_6mths</th>\n",
       "      <th>status_6mths</th>\n",
       "    </tr>\n",
       "  </thead>\n",
       "  <tbody>\n",
       "    <tr>\n",
       "      <th>0</th>\n",
       "      <td>38676116</td>\n",
       "      <td>41461848</td>\n",
       "      <td>8000</td>\n",
       "      <td>8000.0</td>\n",
       "      <td>8000.0</td>\n",
       "      <td>36</td>\n",
       "      <td>7.49</td>\n",
       "      <td>248.82</td>\n",
       "      <td>A</td>\n",
       "      <td>A4</td>\n",
       "      <td>5</td>\n",
       "      <td>MORTGAGE</td>\n",
       "      <td>46000.0</td>\n",
       "      <td>Not Verified</td>\n",
       "      <td>2021-01-01</td>\n",
       "      <td>Current</td>\n",
       "      <td>n</td>\n",
       "      <td>credit_card</td>\n",
       "      <td>19.54</td>\n",
       "      <td>2.0</td>\n",
       "      <td>1987-10-01</td>\n",
       "      <td>0</td>\n",
       "      <td>12</td>\n",
       "      <td>27</td>\n",
       "      <td>5529.70</td>\n",
       "      <td>5529.70</td>\n",
       "      <td>2982.51</td>\n",
       "      <td>2982.51</td>\n",
       "      <td>2470.30</td>\n",
       "      <td>512.21</td>\n",
       "      <td>0</td>\n",
       "      <td>0.0</td>\n",
       "      <td>0.0</td>\n",
       "      <td>2022-01-01</td>\n",
       "      <td>248.82</td>\n",
       "      <td>2022-01-01</td>\n",
       "      <td>0</td>\n",
       "      <td>1</td>\n",
       "      <td>INDIVIDUAL</td>\n",
       "      <td>4223.635153</td>\n",
       "      <td>Open</td>\n",
       "    </tr>\n",
       "    <tr>\n",
       "      <th>1</th>\n",
       "      <td>38656203</td>\n",
       "      <td>41440010</td>\n",
       "      <td>13200</td>\n",
       "      <td>13200.0</td>\n",
       "      <td>13200.0</td>\n",
       "      <td>36</td>\n",
       "      <td>6.99</td>\n",
       "      <td>407.52</td>\n",
       "      <td>A</td>\n",
       "      <td>A3</td>\n",
       "      <td>9</td>\n",
       "      <td>RENT</td>\n",
       "      <td>50000.0</td>\n",
       "      <td>Not Verified</td>\n",
       "      <td>2021-01-01</td>\n",
       "      <td>Current</td>\n",
       "      <td>n</td>\n",
       "      <td>credit_card</td>\n",
       "      <td>24.20</td>\n",
       "      <td>0.0</td>\n",
       "      <td>2001-09-01</td>\n",
       "      <td>0</td>\n",
       "      <td>15</td>\n",
       "      <td>31</td>\n",
       "      <td>9102.83</td>\n",
       "      <td>9102.83</td>\n",
       "      <td>4885.11</td>\n",
       "      <td>4885.11</td>\n",
       "      <td>4097.17</td>\n",
       "      <td>787.94</td>\n",
       "      <td>0</td>\n",
       "      <td>0.0</td>\n",
       "      <td>0.0</td>\n",
       "      <td>2022-01-01</td>\n",
       "      <td>407.52</td>\n",
       "      <td>2022-01-01</td>\n",
       "      <td>0</td>\n",
       "      <td>1</td>\n",
       "      <td>INDIVIDUAL</td>\n",
       "      <td>6944.6382</td>\n",
       "      <td>Open</td>\n",
       "    </tr>\n",
       "    <tr>\n",
       "      <th>2</th>\n",
       "      <td>38656154</td>\n",
       "      <td>41439961</td>\n",
       "      <td>16000</td>\n",
       "      <td>16000.0</td>\n",
       "      <td>16000.0</td>\n",
       "      <td>36</td>\n",
       "      <td>7.49</td>\n",
       "      <td>497.63</td>\n",
       "      <td>A</td>\n",
       "      <td>A4</td>\n",
       "      <td>8</td>\n",
       "      <td>MORTGAGE</td>\n",
       "      <td>73913.0</td>\n",
       "      <td>Source Verified</td>\n",
       "      <td>2021-01-01</td>\n",
       "      <td>Fully Paid</td>\n",
       "      <td>n</td>\n",
       "      <td>credit_card</td>\n",
       "      <td>16.92</td>\n",
       "      <td>0.0</td>\n",
       "      <td>1998-09-01</td>\n",
       "      <td>0</td>\n",
       "      <td>7</td>\n",
       "      <td>18</td>\n",
       "      <td>0.00</td>\n",
       "      <td>0.00</td>\n",
       "      <td>16824.54</td>\n",
       "      <td>16824.54</td>\n",
       "      <td>16000.00</td>\n",
       "      <td>824.54</td>\n",
       "      <td>0</td>\n",
       "      <td>0.0</td>\n",
       "      <td>0.0</td>\n",
       "      <td>2021-10-01</td>\n",
       "      <td>12850.16</td>\n",
       "      <td>2021-10-01</td>\n",
       "      <td>0</td>\n",
       "      <td>1</td>\n",
       "      <td>INDIVIDUAL</td>\n",
       "      <td>0</td>\n",
       "      <td>Recovered</td>\n",
       "    </tr>\n",
       "    <tr>\n",
       "      <th>3</th>\n",
       "      <td>38656128</td>\n",
       "      <td>41439934</td>\n",
       "      <td>15000</td>\n",
       "      <td>15000.0</td>\n",
       "      <td>15000.0</td>\n",
       "      <td>36</td>\n",
       "      <td>14.31</td>\n",
       "      <td>514.93</td>\n",
       "      <td>C</td>\n",
       "      <td>C4</td>\n",
       "      <td>1</td>\n",
       "      <td>RENT</td>\n",
       "      <td>42000.0</td>\n",
       "      <td>Source Verified</td>\n",
       "      <td>2021-01-01</td>\n",
       "      <td>Fully Paid</td>\n",
       "      <td>n</td>\n",
       "      <td>debt_consolidation</td>\n",
       "      <td>35.52</td>\n",
       "      <td>0.0</td>\n",
       "      <td>2008-06-01</td>\n",
       "      <td>0</td>\n",
       "      <td>6</td>\n",
       "      <td>13</td>\n",
       "      <td>0.00</td>\n",
       "      <td>0.00</td>\n",
       "      <td>15947.47</td>\n",
       "      <td>15947.47</td>\n",
       "      <td>15000.00</td>\n",
       "      <td>947.47</td>\n",
       "      <td>0</td>\n",
       "      <td>0.0</td>\n",
       "      <td>0.0</td>\n",
       "      <td>2021-06-01</td>\n",
       "      <td>13899.67</td>\n",
       "      <td>2021-06-01</td>\n",
       "      <td>0</td>\n",
       "      <td>1</td>\n",
       "      <td>INDIVIDUAL</td>\n",
       "      <td>0</td>\n",
       "      <td>Recovered</td>\n",
       "    </tr>\n",
       "    <tr>\n",
       "      <th>4</th>\n",
       "      <td>38656121</td>\n",
       "      <td>41439927</td>\n",
       "      <td>15000</td>\n",
       "      <td>15000.0</td>\n",
       "      <td>15000.0</td>\n",
       "      <td>36</td>\n",
       "      <td>6.03</td>\n",
       "      <td>456.54</td>\n",
       "      <td>A</td>\n",
       "      <td>A1</td>\n",
       "      <td>10</td>\n",
       "      <td>MORTGAGE</td>\n",
       "      <td>145000.0</td>\n",
       "      <td>Verified</td>\n",
       "      <td>2021-01-01</td>\n",
       "      <td>Current</td>\n",
       "      <td>n</td>\n",
       "      <td>debt_consolidation</td>\n",
       "      <td>3.33</td>\n",
       "      <td>0.0</td>\n",
       "      <td>2002-04-01</td>\n",
       "      <td>0</td>\n",
       "      <td>23</td>\n",
       "      <td>50</td>\n",
       "      <td>10297.47</td>\n",
       "      <td>10297.47</td>\n",
       "      <td>5473.46</td>\n",
       "      <td>5473.46</td>\n",
       "      <td>4702.53</td>\n",
       "      <td>770.93</td>\n",
       "      <td>0</td>\n",
       "      <td>0.0</td>\n",
       "      <td>0.0</td>\n",
       "      <td>2022-01-01</td>\n",
       "      <td>456.54</td>\n",
       "      <td>2022-01-01</td>\n",
       "      <td>0</td>\n",
       "      <td>1</td>\n",
       "      <td>INDIVIDUAL</td>\n",
       "      <td>7837.982083</td>\n",
       "      <td>Open</td>\n",
       "    </tr>\n",
       "  </tbody>\n",
       "</table>\n",
       "</div>"
      ],
      "text/plain": [
       "         id  member_id  loan_amount  funded_amount  funded_amount_inv  term  \\\n",
       "0  38676116   41461848         8000         8000.0             8000.0    36   \n",
       "1  38656203   41440010        13200        13200.0            13200.0    36   \n",
       "2  38656154   41439961        16000        16000.0            16000.0    36   \n",
       "3  38656128   41439934        15000        15000.0            15000.0    36   \n",
       "4  38656121   41439927        15000        15000.0            15000.0    36   \n",
       "\n",
       "   int_rate  instalment grade sub_grade  employment_length home_ownership  \\\n",
       "0      7.49      248.82     A        A4                  5       MORTGAGE   \n",
       "1      6.99      407.52     A        A3                  9           RENT   \n",
       "2      7.49      497.63     A        A4                  8       MORTGAGE   \n",
       "3     14.31      514.93     C        C4                  1           RENT   \n",
       "4      6.03      456.54     A        A1                 10       MORTGAGE   \n",
       "\n",
       "   annual_inc verification_status  issue_date loan_status payment_plan  \\\n",
       "0     46000.0        Not Verified  2021-01-01     Current            n   \n",
       "1     50000.0        Not Verified  2021-01-01     Current            n   \n",
       "2     73913.0     Source Verified  2021-01-01  Fully Paid            n   \n",
       "3     42000.0     Source Verified  2021-01-01  Fully Paid            n   \n",
       "4    145000.0            Verified  2021-01-01     Current            n   \n",
       "\n",
       "              purpose    dti  delinq_2yrs earliest_credit_line  \\\n",
       "0         credit_card  19.54          2.0           1987-10-01   \n",
       "1         credit_card  24.20          0.0           2001-09-01   \n",
       "2         credit_card  16.92          0.0           1998-09-01   \n",
       "3  debt_consolidation  35.52          0.0           2008-06-01   \n",
       "4  debt_consolidation   3.33          0.0           2002-04-01   \n",
       "\n",
       "   inq_last_6mths  open_accounts  total_accounts  out_prncp  out_prncp_inv  \\\n",
       "0               0             12              27    5529.70        5529.70   \n",
       "1               0             15              31    9102.83        9102.83   \n",
       "2               0              7              18       0.00           0.00   \n",
       "3               0              6              13       0.00           0.00   \n",
       "4               0             23              50   10297.47       10297.47   \n",
       "\n",
       "   total_payment  total_payment_inv  total_rec_prncp  total_rec_int  \\\n",
       "0        2982.51            2982.51          2470.30         512.21   \n",
       "1        4885.11            4885.11          4097.17         787.94   \n",
       "2       16824.54           16824.54         16000.00         824.54   \n",
       "3       15947.47           15947.47         15000.00         947.47   \n",
       "4        5473.46            5473.46          4702.53         770.93   \n",
       "\n",
       "   total_rec_late_fee  recoveries  collection_recovery_fee last_payment_date  \\\n",
       "0                   0         0.0                      0.0        2022-01-01   \n",
       "1                   0         0.0                      0.0        2022-01-01   \n",
       "2                   0         0.0                      0.0        2021-10-01   \n",
       "3                   0         0.0                      0.0        2021-06-01   \n",
       "4                   0         0.0                      0.0        2022-01-01   \n",
       "\n",
       "   last_payment_amount last_credit_pull_date  collections_12_mths_ex_med  \\\n",
       "0               248.82            2022-01-01                           0   \n",
       "1               407.52            2022-01-01                           0   \n",
       "2             12850.16            2021-10-01                           0   \n",
       "3             13899.67            2021-06-01                           0   \n",
       "4               456.54            2022-01-01                           0   \n",
       "\n",
       "   policy_code application_type remaining_in_6mths status_6mths  \n",
       "0            1       INDIVIDUAL        4223.635153         Open  \n",
       "1            1       INDIVIDUAL          6944.6382         Open  \n",
       "2            1       INDIVIDUAL                  0    Recovered  \n",
       "3            1       INDIVIDUAL                  0    Recovered  \n",
       "4            1       INDIVIDUAL        7837.982083         Open  "
      ]
     },
     "metadata": {},
     "output_type": "display_data"
    }
   ],
   "source": [
    "display(loans_data.head())"
   ]
  }
 ],
 "metadata": {
  "kernelspec": {
   "display_name": "base",
   "language": "python",
   "name": "python3"
  },
  "language_info": {
   "codemirror_mode": {
    "name": "ipython",
    "version": 3
   },
   "file_extension": ".py",
   "mimetype": "text/x-python",
   "name": "python",
   "nbconvert_exporter": "python",
   "pygments_lexer": "ipython3",
   "version": "3.11.4"
  }
 },
 "nbformat": 4,
 "nbformat_minor": 2
}

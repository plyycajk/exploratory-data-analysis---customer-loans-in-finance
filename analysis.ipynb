{
 "cells": [
  {
   "cell_type": "markdown",
   "metadata": {},
   "source": [
    "# Analysis\n"
   ]
  },
  {
   "cell_type": "code",
   "execution_count": 184,
   "metadata": {},
   "outputs": [],
   "source": [
    "from plotly.subplots import make_subplots\n",
    "import matplotlib.pyplot as plt\n",
    "import numpy as np\n",
    "import pandas as pd\n",
    "import plotly.graph_objects as go\n",
    "import seaborn as sns\n",
    "\n",
    "\n",
    "\n",
    "#load csv into dataframe\n",
    "loans_data = pd.read_csv('Data_Post_Transformation.csv')\n",
    "loans_data.drop('Unnamed: 0', axis='columns', inplace=True)\n",
    "\n",
    "log_convert_back = ['recoveries',\n",
    "                    'total_rec_late_fee',\n",
    "                    'delinq_2yrs',\n",
    "                    'inq_last_6mths',\n",
    "                    'annual_inc',\n",
    "                    'out_prncp',\n",
    "                    'out_prncp_inv',\n",
    "                    'last_payment_amount',\n",
    "                    'collections_12_mths_ex_med',\n",
    "                    'collection_recovery_fee']\n",
    "\n",
    "#restore log_converted columns back to pre-transformation values\n",
    "\n",
    "for col in log_convert_back:\n",
    "    loans_data[col] = loans_data[col].map(lambda x: np.exp(x) if x > 0 else 0)\n",
    "\n",
    "pd.set_option('display.max_columns', None)"
   ]
  },
  {
   "cell_type": "markdown",
   "metadata": {},
   "source": [
    "## Current state of the loans\n",
    "\n",
    "Here we analyse what percentage of investor funds has been recouped as well as what is projected to be recouped in 6 months time."
   ]
  },
  {
   "cell_type": "code",
   "execution_count": 80,
   "metadata": {},
   "outputs": [
    {
     "name": "stdout",
     "output_type": "stream",
     "text": [
      "The percentage of loans recovered against the investor funding is 61.75%\n",
      "The percentage of investor funding returned is 19.61%\n",
      "The total amount funded is 398,914,525.0\n"
     ]
    },
    {
     "data": {
      "application/vnd.plotly.v1+json": {
       "config": {
        "displayModeBar": false,
        "plotlyServerURL": "https://plot.ly"
       },
       "data": [
        {
         "domain": {
          "x": [
           0,
           0.45
          ],
          "y": [
           0,
           1
          ]
         },
         "hole": 0.4,
         "hoverinfo": "label+percent",
         "labels": [
          "Returned",
          "Pending"
         ],
         "marker": {
          "colors": [
           "green",
           "blue"
          ]
         },
         "name": "Current",
         "type": "pie",
         "values": [
          19.61,
          80.39
         ]
        },
        {
         "domain": {
          "x": [
           0.55,
           1
          ],
          "y": [
           0,
           1
          ]
         },
         "hole": 0.4,
         "hoverinfo": "label+percent",
         "labels": [
          "Returned",
          "Pending"
         ],
         "marker": {
          "colors": [
           "green",
           "blue"
          ]
         },
         "name": "6 month projection",
         "type": "pie",
         "values": [
          32.73,
          67.27000000000001
         ]
        }
       ],
       "layout": {
        "annotations": [
         {
          "font": {
           "size": 18
          },
          "showarrow": false,
          "text": "<b>Current</b>",
          "x": 0.18,
          "y": 0.5
         },
         {
          "font": {
           "size": 18
          },
          "showarrow": false,
          "text": "<b>Projection</b>",
          "x": 0.84,
          "y": 0.5
         }
        ],
        "template": {
         "data": {
          "bar": [
           {
            "error_x": {
             "color": "#2a3f5f"
            },
            "error_y": {
             "color": "#2a3f5f"
            },
            "marker": {
             "line": {
              "color": "#E5ECF6",
              "width": 0.5
             },
             "pattern": {
              "fillmode": "overlay",
              "size": 10,
              "solidity": 0.2
             }
            },
            "type": "bar"
           }
          ],
          "barpolar": [
           {
            "marker": {
             "line": {
              "color": "#E5ECF6",
              "width": 0.5
             },
             "pattern": {
              "fillmode": "overlay",
              "size": 10,
              "solidity": 0.2
             }
            },
            "type": "barpolar"
           }
          ],
          "carpet": [
           {
            "aaxis": {
             "endlinecolor": "#2a3f5f",
             "gridcolor": "white",
             "linecolor": "white",
             "minorgridcolor": "white",
             "startlinecolor": "#2a3f5f"
            },
            "baxis": {
             "endlinecolor": "#2a3f5f",
             "gridcolor": "white",
             "linecolor": "white",
             "minorgridcolor": "white",
             "startlinecolor": "#2a3f5f"
            },
            "type": "carpet"
           }
          ],
          "choropleth": [
           {
            "colorbar": {
             "outlinewidth": 0,
             "ticks": ""
            },
            "type": "choropleth"
           }
          ],
          "contour": [
           {
            "colorbar": {
             "outlinewidth": 0,
             "ticks": ""
            },
            "colorscale": [
             [
              0,
              "#0d0887"
             ],
             [
              0.1111111111111111,
              "#46039f"
             ],
             [
              0.2222222222222222,
              "#7201a8"
             ],
             [
              0.3333333333333333,
              "#9c179e"
             ],
             [
              0.4444444444444444,
              "#bd3786"
             ],
             [
              0.5555555555555556,
              "#d8576b"
             ],
             [
              0.6666666666666666,
              "#ed7953"
             ],
             [
              0.7777777777777778,
              "#fb9f3a"
             ],
             [
              0.8888888888888888,
              "#fdca26"
             ],
             [
              1,
              "#f0f921"
             ]
            ],
            "type": "contour"
           }
          ],
          "contourcarpet": [
           {
            "colorbar": {
             "outlinewidth": 0,
             "ticks": ""
            },
            "type": "contourcarpet"
           }
          ],
          "heatmap": [
           {
            "colorbar": {
             "outlinewidth": 0,
             "ticks": ""
            },
            "colorscale": [
             [
              0,
              "#0d0887"
             ],
             [
              0.1111111111111111,
              "#46039f"
             ],
             [
              0.2222222222222222,
              "#7201a8"
             ],
             [
              0.3333333333333333,
              "#9c179e"
             ],
             [
              0.4444444444444444,
              "#bd3786"
             ],
             [
              0.5555555555555556,
              "#d8576b"
             ],
             [
              0.6666666666666666,
              "#ed7953"
             ],
             [
              0.7777777777777778,
              "#fb9f3a"
             ],
             [
              0.8888888888888888,
              "#fdca26"
             ],
             [
              1,
              "#f0f921"
             ]
            ],
            "type": "heatmap"
           }
          ],
          "heatmapgl": [
           {
            "colorbar": {
             "outlinewidth": 0,
             "ticks": ""
            },
            "colorscale": [
             [
              0,
              "#0d0887"
             ],
             [
              0.1111111111111111,
              "#46039f"
             ],
             [
              0.2222222222222222,
              "#7201a8"
             ],
             [
              0.3333333333333333,
              "#9c179e"
             ],
             [
              0.4444444444444444,
              "#bd3786"
             ],
             [
              0.5555555555555556,
              "#d8576b"
             ],
             [
              0.6666666666666666,
              "#ed7953"
             ],
             [
              0.7777777777777778,
              "#fb9f3a"
             ],
             [
              0.8888888888888888,
              "#fdca26"
             ],
             [
              1,
              "#f0f921"
             ]
            ],
            "type": "heatmapgl"
           }
          ],
          "histogram": [
           {
            "marker": {
             "pattern": {
              "fillmode": "overlay",
              "size": 10,
              "solidity": 0.2
             }
            },
            "type": "histogram"
           }
          ],
          "histogram2d": [
           {
            "colorbar": {
             "outlinewidth": 0,
             "ticks": ""
            },
            "colorscale": [
             [
              0,
              "#0d0887"
             ],
             [
              0.1111111111111111,
              "#46039f"
             ],
             [
              0.2222222222222222,
              "#7201a8"
             ],
             [
              0.3333333333333333,
              "#9c179e"
             ],
             [
              0.4444444444444444,
              "#bd3786"
             ],
             [
              0.5555555555555556,
              "#d8576b"
             ],
             [
              0.6666666666666666,
              "#ed7953"
             ],
             [
              0.7777777777777778,
              "#fb9f3a"
             ],
             [
              0.8888888888888888,
              "#fdca26"
             ],
             [
              1,
              "#f0f921"
             ]
            ],
            "type": "histogram2d"
           }
          ],
          "histogram2dcontour": [
           {
            "colorbar": {
             "outlinewidth": 0,
             "ticks": ""
            },
            "colorscale": [
             [
              0,
              "#0d0887"
             ],
             [
              0.1111111111111111,
              "#46039f"
             ],
             [
              0.2222222222222222,
              "#7201a8"
             ],
             [
              0.3333333333333333,
              "#9c179e"
             ],
             [
              0.4444444444444444,
              "#bd3786"
             ],
             [
              0.5555555555555556,
              "#d8576b"
             ],
             [
              0.6666666666666666,
              "#ed7953"
             ],
             [
              0.7777777777777778,
              "#fb9f3a"
             ],
             [
              0.8888888888888888,
              "#fdca26"
             ],
             [
              1,
              "#f0f921"
             ]
            ],
            "type": "histogram2dcontour"
           }
          ],
          "mesh3d": [
           {
            "colorbar": {
             "outlinewidth": 0,
             "ticks": ""
            },
            "type": "mesh3d"
           }
          ],
          "parcoords": [
           {
            "line": {
             "colorbar": {
              "outlinewidth": 0,
              "ticks": ""
             }
            },
            "type": "parcoords"
           }
          ],
          "pie": [
           {
            "automargin": true,
            "type": "pie"
           }
          ],
          "scatter": [
           {
            "fillpattern": {
             "fillmode": "overlay",
             "size": 10,
             "solidity": 0.2
            },
            "type": "scatter"
           }
          ],
          "scatter3d": [
           {
            "line": {
             "colorbar": {
              "outlinewidth": 0,
              "ticks": ""
             }
            },
            "marker": {
             "colorbar": {
              "outlinewidth": 0,
              "ticks": ""
             }
            },
            "type": "scatter3d"
           }
          ],
          "scattercarpet": [
           {
            "marker": {
             "colorbar": {
              "outlinewidth": 0,
              "ticks": ""
             }
            },
            "type": "scattercarpet"
           }
          ],
          "scattergeo": [
           {
            "marker": {
             "colorbar": {
              "outlinewidth": 0,
              "ticks": ""
             }
            },
            "type": "scattergeo"
           }
          ],
          "scattergl": [
           {
            "marker": {
             "colorbar": {
              "outlinewidth": 0,
              "ticks": ""
             }
            },
            "type": "scattergl"
           }
          ],
          "scattermapbox": [
           {
            "marker": {
             "colorbar": {
              "outlinewidth": 0,
              "ticks": ""
             }
            },
            "type": "scattermapbox"
           }
          ],
          "scatterpolar": [
           {
            "marker": {
             "colorbar": {
              "outlinewidth": 0,
              "ticks": ""
             }
            },
            "type": "scatterpolar"
           }
          ],
          "scatterpolargl": [
           {
            "marker": {
             "colorbar": {
              "outlinewidth": 0,
              "ticks": ""
             }
            },
            "type": "scatterpolargl"
           }
          ],
          "scatterternary": [
           {
            "marker": {
             "colorbar": {
              "outlinewidth": 0,
              "ticks": ""
             }
            },
            "type": "scatterternary"
           }
          ],
          "surface": [
           {
            "colorbar": {
             "outlinewidth": 0,
             "ticks": ""
            },
            "colorscale": [
             [
              0,
              "#0d0887"
             ],
             [
              0.1111111111111111,
              "#46039f"
             ],
             [
              0.2222222222222222,
              "#7201a8"
             ],
             [
              0.3333333333333333,
              "#9c179e"
             ],
             [
              0.4444444444444444,
              "#bd3786"
             ],
             [
              0.5555555555555556,
              "#d8576b"
             ],
             [
              0.6666666666666666,
              "#ed7953"
             ],
             [
              0.7777777777777778,
              "#fb9f3a"
             ],
             [
              0.8888888888888888,
              "#fdca26"
             ],
             [
              1,
              "#f0f921"
             ]
            ],
            "type": "surface"
           }
          ],
          "table": [
           {
            "cells": {
             "fill": {
              "color": "#EBF0F8"
             },
             "line": {
              "color": "white"
             }
            },
            "header": {
             "fill": {
              "color": "#C8D4E3"
             },
             "line": {
              "color": "white"
             }
            },
            "type": "table"
           }
          ]
         },
         "layout": {
          "annotationdefaults": {
           "arrowcolor": "#2a3f5f",
           "arrowhead": 0,
           "arrowwidth": 1
          },
          "autotypenumbers": "strict",
          "coloraxis": {
           "colorbar": {
            "outlinewidth": 0,
            "ticks": ""
           }
          },
          "colorscale": {
           "diverging": [
            [
             0,
             "#8e0152"
            ],
            [
             0.1,
             "#c51b7d"
            ],
            [
             0.2,
             "#de77ae"
            ],
            [
             0.3,
             "#f1b6da"
            ],
            [
             0.4,
             "#fde0ef"
            ],
            [
             0.5,
             "#f7f7f7"
            ],
            [
             0.6,
             "#e6f5d0"
            ],
            [
             0.7,
             "#b8e186"
            ],
            [
             0.8,
             "#7fbc41"
            ],
            [
             0.9,
             "#4d9221"
            ],
            [
             1,
             "#276419"
            ]
           ],
           "sequential": [
            [
             0,
             "#0d0887"
            ],
            [
             0.1111111111111111,
             "#46039f"
            ],
            [
             0.2222222222222222,
             "#7201a8"
            ],
            [
             0.3333333333333333,
             "#9c179e"
            ],
            [
             0.4444444444444444,
             "#bd3786"
            ],
            [
             0.5555555555555556,
             "#d8576b"
            ],
            [
             0.6666666666666666,
             "#ed7953"
            ],
            [
             0.7777777777777778,
             "#fb9f3a"
            ],
            [
             0.8888888888888888,
             "#fdca26"
            ],
            [
             1,
             "#f0f921"
            ]
           ],
           "sequentialminus": [
            [
             0,
             "#0d0887"
            ],
            [
             0.1111111111111111,
             "#46039f"
            ],
            [
             0.2222222222222222,
             "#7201a8"
            ],
            [
             0.3333333333333333,
             "#9c179e"
            ],
            [
             0.4444444444444444,
             "#bd3786"
            ],
            [
             0.5555555555555556,
             "#d8576b"
            ],
            [
             0.6666666666666666,
             "#ed7953"
            ],
            [
             0.7777777777777778,
             "#fb9f3a"
            ],
            [
             0.8888888888888888,
             "#fdca26"
            ],
            [
             1,
             "#f0f921"
            ]
           ]
          },
          "colorway": [
           "#636efa",
           "#EF553B",
           "#00cc96",
           "#ab63fa",
           "#FFA15A",
           "#19d3f3",
           "#FF6692",
           "#B6E880",
           "#FF97FF",
           "#FECB52"
          ],
          "font": {
           "color": "#2a3f5f"
          },
          "geo": {
           "bgcolor": "white",
           "lakecolor": "white",
           "landcolor": "#E5ECF6",
           "showlakes": true,
           "showland": true,
           "subunitcolor": "white"
          },
          "hoverlabel": {
           "align": "left"
          },
          "hovermode": "closest",
          "mapbox": {
           "style": "light"
          },
          "paper_bgcolor": "white",
          "plot_bgcolor": "#E5ECF6",
          "polar": {
           "angularaxis": {
            "gridcolor": "white",
            "linecolor": "white",
            "ticks": ""
           },
           "bgcolor": "#E5ECF6",
           "radialaxis": {
            "gridcolor": "white",
            "linecolor": "white",
            "ticks": ""
           }
          },
          "scene": {
           "xaxis": {
            "backgroundcolor": "#E5ECF6",
            "gridcolor": "white",
            "gridwidth": 2,
            "linecolor": "white",
            "showbackground": true,
            "ticks": "",
            "zerolinecolor": "white"
           },
           "yaxis": {
            "backgroundcolor": "#E5ECF6",
            "gridcolor": "white",
            "gridwidth": 2,
            "linecolor": "white",
            "showbackground": true,
            "ticks": "",
            "zerolinecolor": "white"
           },
           "zaxis": {
            "backgroundcolor": "#E5ECF6",
            "gridcolor": "white",
            "gridwidth": 2,
            "linecolor": "white",
            "showbackground": true,
            "ticks": "",
            "zerolinecolor": "white"
           }
          },
          "shapedefaults": {
           "line": {
            "color": "#2a3f5f"
           }
          },
          "ternary": {
           "aaxis": {
            "gridcolor": "white",
            "linecolor": "white",
            "ticks": ""
           },
           "baxis": {
            "gridcolor": "white",
            "linecolor": "white",
            "ticks": ""
           },
           "bgcolor": "#E5ECF6",
           "caxis": {
            "gridcolor": "white",
            "linecolor": "white",
            "ticks": ""
           }
          },
          "title": {
           "x": 0.05
          },
          "xaxis": {
           "automargin": true,
           "gridcolor": "white",
           "linecolor": "white",
           "ticks": "",
           "title": {
            "standoff": 15
           },
           "zerolinecolor": "white",
           "zerolinewidth": 2
          },
          "yaxis": {
           "automargin": true,
           "gridcolor": "white",
           "linecolor": "white",
           "ticks": "",
           "title": {
            "standoff": 15
           },
           "zerolinecolor": "white",
           "zerolinewidth": 2
          }
         }
        },
        "title": {
         "text": "<b>Investor Funds Returned:</b> Current vs. 6 month projection"
        }
       }
      }
     },
     "metadata": {},
     "output_type": "display_data"
    }
   ],
   "source": [
    "# calculate basic loan summary information\n",
    "percentage_recouped_inv = round(len(loans_data[loans_data['out_prncp_inv']==0])/len(loans_data)*100,2)\n",
    "total_funded = loans_data['funded_amount'].sum()\n",
    "funded_percent_inv = round((loans_data['out_prncp_inv'].sum() / loans_data['funded_amount_inv'].sum())*100,2)\n",
    "\n",
    "print(f'The percentage of loans recovered against the investor funding is {percentage_recouped_inv}%')\n",
    "print(f'The percentage of investor funding returned is {funded_percent_inv}%')\n",
    "print(f'The total amount funded is {total_funded:,}')\n",
    "\n",
    "#calculate loan value in 6 months for each loan\n",
    "loans_data['remaining_in_6mths'] = ''\n",
    "for index, row in loans_data.iterrows():\n",
    "    value = row['out_prncp'] #set start value as current loan value\n",
    "    mths = 6\n",
    "    while mths > 0:\n",
    "        value = (value * (1+(row['int_rate']/12/100))) - row['instalment'] #add interest for monthly period and deduct instalment\n",
    "        mths -= 1 #deduct month from count\n",
    "    \n",
    "    loans_data.at[index, 'remaining_in_6mths'] = value #set remaining value as value of loan after 6 months\n",
    "\n",
    "loans_data['remaining_in_6mths'] = np.where(loans_data['remaining_in_6mths']<=0,0,loans_data['remaining_in_6mths'])  #set negative values to zero on projection\n",
    "\n",
    "funds_returned_6mths = round(((loans_data['remaining_in_6mths'].sum() + loans_data['out_prncp_inv'].sum()) / loans_data['funded_amount_inv'].sum())*100,2)\n",
    "\n",
    "loans_data['status_6mths'] = np.where(loans_data['remaining_in_6mths']>0,\"Open\",\"Recovered\")    \n",
    "\n",
    "colors = ['green','blue']\n",
    "\n",
    "pie_fig = make_subplots(rows=1, cols=2, specs=[[{'type':'domain'}, {'type':'domain'}]])\n",
    "\n",
    "pie_fig.add_trace(go.Pie(labels=['Returned','Pending'], values=[funded_percent_inv,100-funded_percent_inv], name=\"Current\"),\n",
    "              row=1, col=1)\n",
    "pie_fig.add_trace(go.Pie(labels=['Returned','Pending'], values=[funds_returned_6mths,100-funds_returned_6mths], name=\"6 month projection\",),\n",
    "              row=1, col=2)\n",
    "\n",
    "# Use `hole` to create a donut-like pie chart\n",
    "pie_fig.update_traces(hole=.4, hoverinfo=\"label+percent\", marker=dict(colors=colors))\n",
    "\n",
    "pie_fig.update_layout(\n",
    "    title_text=\"<b>Investor Funds Returned:</b> Current vs. 6 month projection\",\n",
    "    # Add annotations in the center of the donut pies.\n",
    "    annotations=[dict(text='<b>Current</b>', x=0.18, y=0.5, font_size=18, showarrow=False),\n",
    "                 dict(text='<b>Projection</b>', x=0.84, y=0.5, font_size=18, showarrow=False)])\n",
    "\n",
    "pie_fig.show(config={'displayModeBar':False})"
   ]
  },
  {
   "cell_type": "markdown",
   "metadata": {},
   "source": [
    "## Calculating projected losses\n",
    "\n",
    "What percentage of loans have been a loss to the company? Loans marked as Charged Off in the loan_status column represent a loss to the company.\n",
    "\n",
    "\n",
    "Calculate the percentage of charged off loans historically and amount that was paid towards these loans before being charged off."
   ]
  },
  {
   "cell_type": "code",
   "execution_count": 218,
   "metadata": {},
   "outputs": [
    {
     "name": "stdout",
     "output_type": "stream",
     "text": [
      "The percentage of \"charged off\" loans in the dataset is 9.0%\n",
      "\n",
      "The total recouped from \"charged off\" loans is 17,117,604.89\n",
      "\n",
      "The projected loss of \"charged off loans is 32,416,485.94: this is 65.44% of the expected revenue for these loans\n"
     ]
    }
   ],
   "source": [
    "charged_off = ['Charged Off','Does not meet the credit policy. Status:Charged Off']\n",
    "\n",
    "percent_charged_off = round(len(loans_data[loans_data['loan_status'].isin(charged_off)]) / len(loans_data),2)*100\n",
    "\n",
    "charged_off_repaid = round(loans_data.query('loan_status in @charged_off')['total_payment'].sum(),2)\n",
    "\n",
    "print(f'The percentage of \"charged off\" loans in the dataset is {percent_charged_off}%\\n')\n",
    "\n",
    "print(f'The total recouped from \"charged off\" loans is {charged_off_repaid:,}')\n",
    "\n",
    "#calculate total value of each loan\n",
    "\n",
    "loans_data['total_loan_value'] = ''\n",
    "for index, row in loans_data.iterrows():\n",
    "    loan = row['loan_amount']\n",
    "    int_rate = row['int_rate']/12/100\n",
    "    term = row['term']\n",
    "    instalment = row['instalment']\n",
    "    loan_value = row['loan_amount']\n",
    "   \n",
    "    while term > 0:\n",
    "        loan_value += loan * (1+int_rate) - loan\n",
    "        loan = loan * (1+int_rate)\n",
    "        loan = loan - instalment\n",
    "        term -= 1\n",
    "\n",
    "    loans_data.at[index, 'total_loan_value'] = round(loan_value,2)\n",
    "\n",
    "loans_data['total_lost'] = np.where(loans_data['loan_status'].isin(charged_off),loans_data['total_loan_value']-loans_data['total_payment'],0)\n",
    "\n",
    "total_lost_charged_off = loans_data['total_lost'].sum()\n",
    "\n",
    "percent_charged_off = total_lost_charged_off / loans_data.query('loan_status in @charged_off')['total_loan_value'].sum()*100\n",
    "\n",
    "print(f'\\nThe projected loss of \"charged off loans is {round(total_lost_charged_off,2):,}: this is {round(percent_charged_off,2)}% of the expected revenue for these loans')\n"
   ]
  },
  {
   "cell_type": "markdown",
   "metadata": {},
   "source": [
    "## Possible losses \n",
    "\n",
    "There are customers who are currently behind with their loan payments this subset of customers represent a risk to company revenue.\n",
    "\n",
    "What percentage do users' in this bracket currently represent as a percentage of all loans? Calculate the total amount of customers in this bracket and how much loss the company would loss if these users status changed to Charged Off. What is the projected loss of these loans if the customer were to finish the loans term?\n",
    "\n",
    "If customers converted to Charged Off, what percentage of total revenue do these customers and the customers who have already defaulted on their loan represent?"
   ]
  },
  {
   "cell_type": "code",
   "execution_count": 224,
   "metadata": {},
   "outputs": [
    {
     "name": "stdout",
     "output_type": "stream",
     "text": [
      "367 accounts are currently behind with their payments, this is 1.0% of all accounts.\n",
      "\n",
      "The projected losses due to late accounts converting to \"Charged off\" status is 2,849,608.65\n",
      "\n",
      "Should the late accounts become charged off, this would take the total revenue loss to 35,266,094.59 (7.0% of total revenue 503,296,195.93)\n"
     ]
    }
   ],
   "source": [
    "late_status = ['Late (31-120 days)', 'Late (16-30 days)','Default']\n",
    "\n",
    "late_accounts = len(loans_data[loans_data['loan_status'].isin(late_status)])\n",
    "\n",
    "print(f'{late_accounts} accounts are currently behind with their payments, this is {round(late_accounts/len(loans_data),2)*100}% of all accounts.')\n",
    "\n",
    "potential_late_losses = loans_data.query('loan_status in @late_status')['total_loan_value'].sum() - loans_data.query('loan_status in @late_status')['total_payment'].sum()\n",
    "\n",
    "total_loan_revenue = loans_data['total_loan_value'].sum()\n",
    "\n",
    "late_and_charged_total = round(((potential_late_losses + total_lost_charged_off) / total_loan_revenue),2)\n",
    "\n",
    "print(f'\\nThe projected losses due to late accounts converting to \"Charged off\" status is {round(potential_late_losses,2):,}')\n",
    "\n",
    "print(f'\\nShould the late accounts become charged off, this would take the total revenue loss to {round(potential_late_losses + total_lost_charged_off,2):,} ({round(late_and_charged_total*100,2)}% of total revenue {round(total_loan_revenue,2):,})')"
   ]
  },
  {
   "cell_type": "code",
   "execution_count": 242,
   "metadata": {},
   "outputs": [
    {
     "data": {
      "image/png": "[encoded data removed]",
      "text/plain": [
       "<Figure size 640x480 with 1 Axes>"
      ]
     },
     "metadata": {},
     "output_type": "display_data"
    }
   ],
   "source": [
    "late_and_co = loans_data[(loans_data['loan_status'].isin(charged_off)) | (loans_data['loan_status'].isin(late_status))]\n",
    "\n",
    "grade_order = ['A','B','C','D','E','F','G']\n",
    "\n",
    "ax2 = plt.subplots()\n",
    "ax2 = sns.barplot(x=late_and_co['grade'], y=late_and_co['total_loan_value'], color='navy', label='Total value of loans', errorbar=None, order=grade_order)\n",
    "ax2 = sns.barplot(x=late_and_co['grade'], y=late_and_co['total_payment'], color='green', label='Total payment received', errorbar=None, order=grade_order)\n",
    "\n",
    "ax2.set(xlabel=\"Grade\", ylabel=\"Total Loan Value\", title=\"Payments and Total Value of Loans by Grade\")\n",
    "sns.despine()\n",
    "plt.legend()\n",
    "plt.show()"
   ]
  }
 ],
 "metadata": {
  "kernelspec": {
   "display_name": "base",
   "language": "python",
   "name": "python3"
  },
  "language_info": {
   "codemirror_mode": {
    "name": "ipython",
    "version": 3
   },
   "file_extension": ".py",
   "mimetype": "text/x-python",
   "name": "python",
   "nbconvert_exporter": "python",
   "pygments_lexer": "ipython3",
   "version": "3.11.4"
  }
 },
 "nbformat": 4,
 "nbformat_minor": 2
}

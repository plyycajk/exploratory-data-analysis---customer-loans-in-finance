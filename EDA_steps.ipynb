{
 "cells": [
  {
   "cell_type": "markdown",
   "metadata": {},
   "source": [
    "# EDA process\n",
    "\n",
    "Import the classes created in the exercises"
   ]
  },
  {
   "cell_type": "code",
   "execution_count": 1,
   "metadata": {},
   "outputs": [
    {
     "ename": "ModuleNotFoundError",
     "evalue": "No module named 'sqlalchemy'",
     "output_type": "error",
     "traceback": [
      "\u001b[0;31m---------------------------------------------------------------------------\u001b[0m",
      "\u001b[0;31mModuleNotFoundError\u001b[0m                       Traceback (most recent call last)",
      "\u001b[1;32m/Users/colinknight/Documents/Data Files/AiCore_EDA_Project/EDA_steps.ipynb Cell 2\u001b[0m line \u001b[0;36m1\n\u001b[0;32m----> <a href='vscode-notebook-cell:/Users/colinknight/Documents/Data%20Files/AiCore_EDA_Project/EDA_steps.ipynb#W1sZmlsZQ%3D%3D?line=0'>1</a>\u001b[0m \u001b[39mfrom\u001b[39;00m \u001b[39mcreate_df\u001b[39;00m \u001b[39mimport\u001b[39;00m DataTransform, DataFrameInfo\n\u001b[1;32m      <a href='vscode-notebook-cell:/Users/colinknight/Documents/Data%20Files/AiCore_EDA_Project/EDA_steps.ipynb#W1sZmlsZQ%3D%3D?line=1'>2</a>\u001b[0m \u001b[39mfrom\u001b[39;00m \u001b[39mdf_EDA_classes\u001b[39;00m \u001b[39mimport\u001b[39;00m Plotter, DataFrameTransform\n\u001b[1;32m      <a href='vscode-notebook-cell:/Users/colinknight/Documents/Data%20Files/AiCore_EDA_Project/EDA_steps.ipynb#W1sZmlsZQ%3D%3D?line=3'>4</a>\u001b[0m raw_data_df \u001b[39m=\u001b[39m pd\u001b[39m.\u001b[39mread_csv(\u001b[39m'\u001b[39m\u001b[39mloan_payments.csv\u001b[39m\u001b[39m'\u001b[39m)\n",
      "File \u001b[0;32m~/Documents/Data Files/AiCore_EDA_Project/create_df.py:2\u001b[0m\n\u001b[1;32m      1\u001b[0m \u001b[39mimport\u001b[39;00m \u001b[39mpandas\u001b[39;00m \u001b[39mas\u001b[39;00m \u001b[39mpd\u001b[39;00m\n\u001b[0;32m----> 2\u001b[0m \u001b[39mfrom\u001b[39;00m \u001b[39mdb_utils\u001b[39;00m \u001b[39mimport\u001b[39;00m load_yaml \u001b[39m#imports yaml_load function from db_utils.\u001b[39;00m\n\u001b[1;32m      5\u001b[0m \u001b[39mclass\u001b[39;00m \u001b[39mDataTransform\u001b[39;00m:\n\u001b[1;32m      6\u001b[0m \u001b[39m    \u001b[39m\u001b[39m'''\u001b[39;00m\n\u001b[1;32m      7\u001b[0m \u001b[39m    This class performs transformations on a dataframe based on transformations specified in a supplied .yaml file\u001b[39;00m\n\u001b[1;32m      8\u001b[0m \u001b[39m    \u001b[39;00m\n\u001b[0;32m   (...)\u001b[0m\n\u001b[1;32m     11\u001b[0m \u001b[39m      transformations (file): a .yaml file specifying the column transformations to be undertaken by the instance of the class\u001b[39;00m\n\u001b[1;32m     12\u001b[0m \u001b[39m    '''\u001b[39;00m\n",
      "File \u001b[0;32m~/Documents/Data Files/AiCore_EDA_Project/db_utils.py:2\u001b[0m\n\u001b[1;32m      1\u001b[0m \u001b[39m#imports required for script\u001b[39;00m\n\u001b[0;32m----> 2\u001b[0m \u001b[39mfrom\u001b[39;00m \u001b[39msqlalchemy\u001b[39;00m \u001b[39mimport\u001b[39;00m create_engine\n\u001b[1;32m      3\u001b[0m \u001b[39mimport\u001b[39;00m \u001b[39mos\u001b[39;00m\n\u001b[1;32m      4\u001b[0m \u001b[39mimport\u001b[39;00m \u001b[39mpandas\u001b[39;00m \u001b[39mas\u001b[39;00m \u001b[39mpd\u001b[39;00m\n",
      "\u001b[0;31mModuleNotFoundError\u001b[0m: No module named 'sqlalchemy'"
     ]
    }
   ],
   "source": [
    "from create_df import DataTransform, DataFrameInfo\n",
    "from df_EDA_classes import Plotter, DataFrameTransform\n",
    "\n",
    "raw_data_df = pd.read_csv('loan_payments.csv')"
   ]
  }
 ],
 "metadata": {
  "kernelspec": {
   "display_name": "base",
   "language": "python",
   "name": "python3"
  },
  "language_info": {
   "codemirror_mode": {
    "name": "ipython",
    "version": 3
   },
   "file_extension": ".py",
   "mimetype": "text/x-python",
   "name": "python",
   "nbconvert_exporter": "python",
   "pygments_lexer": "ipython3",
   "version": "3.11.4"
  }
 },
 "nbformat": 4,
 "nbformat_minor": 2
}
